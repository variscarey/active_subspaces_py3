{
 "cells": [
  {
   "cell_type": "code",
   "execution_count": 3,
   "metadata": {},
   "outputs": [],
   "source": [
    "%matplotlib inline\n",
    "import active_subspaces as ac\n",
    "import numpy as np\n",
    "import matplotlib.pyplot as plt"
   ]
  },
  {
   "cell_type": "markdown",
   "metadata": {},
   "source": [
    "## Noise Variance Learning"
   ]
  },
  {
   "cell_type": "code",
   "execution_count": 4,
   "metadata": {},
   "outputs": [],
   "source": [
    "def ECNOISE(x_b, F, M, N):\n",
    "\n",
    "    # x_b: a base point in domain; must be a column vector\n",
    "    # F: function with noise we wish to estimate\n",
    "    # M: number of points sampled along a curve; must have M>/2\n",
    "    # N: dimension of domain of f\n",
    "    \n",
    "    # Throw an error for not sampling enough points\n",
    "    if M<2:\n",
    "        return print('Please select M=2 or larger.')\n",
    "        \n",
    "    \n",
    "    # Initialize storage for difference table\n",
    "    T = np.zeros((M,M))\n",
    "    \n",
    "    # We pick a direction to sample in, and normalize it:\n",
    "    p = np.ones((N,1))/np.sqrt(N)\n",
    "    \n",
    "    # Form difference table\n",
    "    for i in range(0,M):\n",
    "        T[i,0] = F(x_b + (i/M)*p)\n",
    "\n",
    "    for j in range(0,M-1):\n",
    "        for i in range(0,M-j-1):\n",
    "            T[i,j+1] = T[i+1,j] - T[i,j]\n",
    "            \n",
    "    # Make a row vector to store the k-level estimators (sigma_k^2) \n",
    "    S = np.zeros((1,M))\n",
    "    \n",
    "    # Build S according to paper; each k-th component of S is the k-th level estimator for the variance in our noise\n",
    "    # which is computed using a scaled average of the k-th level difference values, from the difference table T\n",
    "    for i in range(1,M):\n",
    "        S[0,i] = ((np.math.factorial(i)**2.)/np.math.factorial(2*i))*(1./(M-i))*np.sum(T[:,i]**2,axis=0)\n",
    "\n",
    "    S=S[:,1:] # Don't need the first column (because first col. of T just holds function values!)\n",
    "    \n",
    "    possible_estimator = np.sum(S[:,2:], axis=1)/(M-1)\n",
    "    est_var = possible_estimator\n",
    "    \n",
    "    return [S, est_var[0]]"
   ]
  },
  {
   "cell_type": "markdown",
   "metadata": {},
   "source": [
    "## Lipschitz Constant Learning"
   ]
  },
  {
   "cell_type": "code",
   "execution_count": 5,
   "metadata": {},
   "outputs": [],
   "source": [
    "def LIPS(F, M, N, est_var):\n",
    "    \n",
    "    # F: noisy function we wish to obtain an estimate of L_! for\n",
    "    # M: number of times we wish to draw points and estimate L_1\n",
    "    # N: dimension of inputs\n",
    "    # est_var: the estimated variance of the noise in f\n",
    "    \n",
    "    # We need to estimate max ||f''|| roughly and cheaply\n",
    "    \n",
    "    # Constants we need\n",
    "    std=est_var**0.5\n",
    "    eps_star=3*std\n",
    "    \n",
    "    # Take a random draw\n",
    "    x_0=10*(2*np.random.rand(N,1) - np.ones((N,1)))\n",
    "\n",
    "    # Define an arbitrary unit vector\n",
    "    unit_v=np.ones((N,1))/(N**(1/N))\n",
    "    \n",
    "    # Step size\n",
    "    h=std**0.25\n",
    "\n",
    "    # Computes a centered finite difference to approximate f'' at x_0\n",
    "    F_m=F(x_0 - h*unit_v)\n",
    "    F_0=F(x_0)\n",
    "    F_p=F(x_0 + h*unit_v)\n",
    "    diff = abs(F_p - 2*F_0 + F_m)\n",
    "\n",
    "    # Our guess for ||f''||\n",
    "    mu_f2=diff/(N*h**2)\n",
    "    \n",
    "    # Now we will take draws and estimate L_1\n",
    "    \n",
    "    x_vals=np.zeros((N,1)) # matrix to store the vectors we randomly make\n",
    "    grads=np.zeros((N,1)) # matrix to store the gradients we approximate\n",
    "    ratios=np.zeros((M,1)) # vector storing the ratios we are intersted in!\n",
    "    h_star=(8**0.25)*np.sqrt(std/mu_f2) # the prescribed step size by Chen/More\n",
    "\n",
    "    for j in range(0,M):\n",
    "\n",
    "        # Take two draws inside a large hypercube and store them\n",
    "        x=100*(2*np.random.rand(N,1) - np.ones((N,1)))\n",
    "        y=100*(2*np.random.rand(N,1) - np.ones((N,1)))\n",
    "        x_vals=np.hstack((x_vals,x))\n",
    "        x_vals=np.hstack((x_vals,y))\n",
    "\n",
    "        # For loop to make finite diff approx's \n",
    "        # to each partial and form approx gradient at x\n",
    "        approx_grad_x=np.zeros((N,1))\n",
    "        for i in range(0,N):\n",
    "            e = np.zeros((N,1))\n",
    "            e[i] = 1.0\n",
    "            approx_grad_x[i] = (F(x + h_star*e) - F(x))/h_star\n",
    "    \n",
    "        # Store the gradient at x\n",
    "        grads=np.hstack((grads,approx_grad_x))\n",
    "    \n",
    "        # For loop to make finite diff approx's \n",
    "        # to each partial and form approx gradient at y\n",
    "        approx_grad_y=np.zeros((N,1))\n",
    "        for p in range(0,N):\n",
    "            e = np.zeros((N,1))\n",
    "            e[p] = 1.0\n",
    "            approx_grad_y[p] = (F(y + h_star*e) - F(y))/h_star\n",
    "    \n",
    "        # Store the gradient at y\n",
    "        grads=np.hstack((grads,approx_grad_y))\n",
    "    \n",
    "        # Form ratios to estimate L_1\n",
    "        # Note we subtract by 2*eps_star, which was mentioned in Callies paper\n",
    "        diff_1=np.linalg.norm(approx_grad_x - approx_grad_y) - 2*eps_star\n",
    "        diff_2=np.linalg.norm(x-y)\n",
    "        r=diff_1/diff_2\n",
    "        ratios[j]=r\n",
    "    \n",
    "    x_vals=x_vals[:,1:]\n",
    "    grads=grads[:,1:]\n",
    "    \n",
    "    # Take most pessimistic draw?\n",
    "    L_1_est=(np.max(ratios))\n",
    "\n",
    "    #print('the ratios are', np.transpose(ratios),'and our estimate to L_1 is', L_1_est)\n",
    "    return [L_1_est]\n",
    "    \n",
    "    \n",
    "    "
   ]
  },
  {
   "cell_type": "markdown",
   "metadata": {},
   "source": [
    "## STARS"
   ]
  },
  {
   "cell_type": "code",
   "execution_count": 6,
   "metadata": {},
   "outputs": [],
   "source": [
    "def STARS(x_init,F, mu_star,h):\n",
    "    \n",
    "    # x_init: initial x value\n",
    "    # F: function we wish to minimize\n",
    "    # mu_star: smoothing parameter\n",
    "    # h: step length\n",
    "    \n",
    "    # Evaluate noisy F(x_init)\n",
    "    f = F(x_init)\n",
    "    \n",
    "    # Draw a random vector of same size as x_init\n",
    "    u = np.random.normal(0,1,(N,1))\n",
    "    \n",
    "    # Form vector y, which is a random walk away from x_init\n",
    "    y = x_init + (mu_star)*u\n",
    "    \n",
    "    # Evaluate noisy F(y)\n",
    "    g = F(y)\n",
    "    \n",
    "    # Form finite-difference \"gradient oracle\"\n",
    "    s = ((g - f)/mu_star)*u \n",
    "    \n",
    "    # Take descent step in direction of -s smooth by h to get next iterate, x_1\n",
    "    x = x_init - (h)*s\n",
    "   \n",
    "    # Evaluate noisy F(x_1)\n",
    "    f=F(x)\n",
    "    \n",
    "        \n",
    "    return [x, f, y, g]"
   ]
  },
  {
   "cell_type": "markdown",
   "metadata": {},
   "source": [
    "## STARSRV"
   ]
  },
  {
   "cell_type": "code",
   "execution_count": 7,
   "metadata": {},
   "outputs": [],
   "source": [
    "def STARSRV(x_init,F,u,k,mu_star,h):\n",
    "    \n",
    "    # x_init: initial x value\n",
    "    # F: function we wish to minimize\n",
    "    # u: Choice of random vector; probably comes from active subspace\n",
    "    # note that lower f's are evaluations of F(*)\n",
    "    # k: noise parameter\n",
    "    # mu_star: smoothing parameter\n",
    "    # h: step length\n",
    "    \n",
    "\n",
    "    \n",
    "    # Evaluate noisy F(x_init)\n",
    "    f = F(x_init) + k*(2*np.random.rand(1)-1)\n",
    "    \n",
    "    \n",
    "    # Form vector y, which is a random walk away from x_init\n",
    "    # in the direction of u, which the user defines\n",
    "    sclr=np.random.normal(0,1)\n",
    "    u=sclr*u\n",
    "    y = x_init + (mu_star)*u\n",
    "    \n",
    "    # Evaluate noisy F(y)\n",
    "    g = F(y) + k*(2*np.random.rand(1) -1)\n",
    "    \n",
    "    # Form finite-difference \"gradient oracle\"\n",
    "    s = ((g - f)/mu_star)*u \n",
    "    \n",
    "    # Take descent step in direction of -s smooth by h to get next iterate, x_1\n",
    "    x = x_init - (h)*s\n",
    "   \n",
    "    # Evaluate noisy F(x_1)\n",
    "    f=F(x) + k*(2*np.random.rand(1) -1)\n",
    "    \n",
    "        \n",
    "    return [x, f, y, g]"
   ]
  },
  {
   "cell_type": "markdown",
   "metadata": {},
   "source": [
    "## Active Subspace Learning"
   ]
  },
  {
   "cell_type": "code",
   "execution_count": 8,
   "metadata": {},
   "outputs": [],
   "source": [
    "def ACT(x_hist, f_hist):\n",
    "    \n",
    "    # x_hist: history of x values - x's are transposed and stored as rows in array x_hist\n",
    "    # f_hist: history of f values - f's are real-valued an stored as rows in a column vector f_hist\n",
    "    \n",
    "    # Compute AS using function values stored in f_hist\n",
    "    \n",
    "    # Instantiate a subspace object\n",
    "    ss = ac.subspaces.Subspaces()\n",
    "\n",
    "    # Use Local Linears\n",
    "    df = ac.gradients.local_linear_gradients(x_hist, f_hist) #Estimated gradients using local linear models\n",
    "    ss.compute(df=df, nboot=0)\n",
    "    \n",
    "    # Use Global Quadratic\n",
    "    # ss.compute(X=x_hist, f=f_hist, nboot=0, sstype='QPHD')\n",
    "    \n",
    "    ac.utils.plotters.eigenvalues(ss.eigenvals, ss.e_br)\n",
    "    ac.utils.plotters.sufficient_summary(x_hist.dot(ss.W1), f_hist)\n",
    "\n",
    "    return [ss.eigenvecs, ss.eigenvals]"
   ]
  },
  {
   "cell_type": "markdown",
   "metadata": {},
   "source": [
    "## Example 1. Noisy sphere function.\n",
    "\n",
    "\n",
    "Let $f: R^N \\to R$ equal the sphere function with additive noise; i.e., $$f(x; \\xi)=\\sum_{i=1}^N x_i^2 + \\epsilon (\\xi),$$ where $\\epsilon \\sim U[-k,k]$ is stoachastic additive noise with zero mean and bounded variance $k^2/3$. Then we have $\\nabla f(x)=2x$ and one can show that $L_1^*=2$. This means that the value of $||\\nabla f(x) -\\nabla f(y)||$ will never be larger than twice the value of $2||x-y||$ which is obvious because $||\\nabla f(x) -\\nabla f(y)||$ literally equals $2||x-y||$."
   ]
  },
  {
   "cell_type": "code",
   "execution_count": 9,
   "metadata": {},
   "outputs": [
    {
     "name": "stdout",
     "output_type": "stream",
     "text": [
      "Noisy sphere function evaluated at x_test is 7.994993568269253 and the error-free value is 8\n"
     ]
    }
   ],
   "source": [
    "# Define sphere function with additive noise\n",
    "\n",
    "# Noise level\n",
    "k=1e-2\n",
    "\n",
    "def sphere(x):\n",
    "    x=x**2\n",
    "    return (np.sum(x, axis=0) + k*(2*np.random.rand(1) - 1))[0]\n",
    "\n",
    "N=4 # this is the dimension of the inputs!\n",
    "\n",
    "x_test=np.sqrt(2)*np.ones(N)\n",
    "\n",
    "print('Noisy sphere function evaluated at x_test is', sphere(x_test), 'and the error-free value is', 2*N)"
   ]
  },
  {
   "cell_type": "markdown",
   "metadata": {},
   "source": [
    "### Call ECNoise and estimate noise variance"
   ]
  },
  {
   "cell_type": "code",
   "execution_count": 12,
   "metadata": {
    "scrolled": true
   },
   "outputs": [
    {
     "name": "stdout",
     "output_type": "stream",
     "text": [
      "2.78943893106013e-06\n"
     ]
    }
   ],
   "source": [
    "sphere_noise = ECNOISE(np.ones((N,1)), sphere, 6, N)\n",
    "est_var=sphere_noise[1]\n",
    "\n",
    "print(est_var)"
   ]
  },
  {
   "cell_type": "markdown",
   "metadata": {},
   "source": [
    "### Learn L_1"
   ]
  },
  {
   "cell_type": "code",
   "execution_count": 13,
   "metadata": {},
   "outputs": [
    {
     "name": "stdout",
     "output_type": "stream",
     "text": [
      "2.0026250664062473\n"
     ]
    }
   ],
   "source": [
    "sphere_lips = LIPS(sphere, 6, N, est_var)\n",
    "L_1_est = sphere_lips[0]\n",
    "\n",
    "print(L_1_est)"
   ]
  },
  {
   "cell_type": "markdown",
   "metadata": {},
   "source": [
    "### Perform STARS (full variables)"
   ]
  },
  {
   "cell_type": "code",
   "execution_count": 14,
   "metadata": {},
   "outputs": [
    {
     "name": "stdout",
     "output_type": "stream",
     "text": [
      "0.012214252258105464 0.015604518551282682\n"
     ]
    }
   ],
   "source": [
    "# STARS optimal hyperparameters\n",
    "\n",
    "mu_star=((8*est_var*N)/(L_1_est**2*(N+6)**3))**0.25\n",
    "h=1/(4*L_1_est*(N+4))\n",
    "\n",
    "print(mu_star,h)"
   ]
  },
  {
   "cell_type": "code",
   "execution_count": 15,
   "metadata": {},
   "outputs": [
    {
     "name": "stdout",
     "output_type": "stream",
     "text": [
      "(4, 1) 16889.36255073336\n"
     ]
    }
   ],
   "source": [
    "x_init=100*(2*np.random.rand(N,1)-np.ones((N,1)))\n",
    "\n",
    "print(np.shape(x_init),sphere(x_init))"
   ]
  },
  {
   "cell_type": "code",
   "execution_count": 16,
   "metadata": {},
   "outputs": [
    {
     "name": "stdout",
     "output_type": "stream",
     "text": [
      "0.44340523953918487 0.20208341322575263\n"
     ]
    }
   ],
   "source": [
    "# Run pure STARs\n",
    "\n",
    "x=x_init\n",
    "f=sphere(x)\n",
    "\n",
    "x_hist=np.array(x)\n",
    "f_hist=np.array(f)\n",
    "\n",
    "maxit=200\n",
    "\n",
    "for i in range(1, maxit):\n",
    "    s=STARS(x,sphere,mu_star,h)\n",
    "    x=s[0]\n",
    "    f=s[1]\n",
    "    x_hist=np.hstack((x_hist,x))\n",
    "    f_hist=np.hstack((f_hist,f))\n",
    "    \n",
    "print(np.linalg.norm(x),f)"
   ]
  },
  {
   "cell_type": "code",
   "execution_count": 17,
   "metadata": {},
   "outputs": [
    {
     "data": {
      "image/png": "[encoded data removed]",
      "text/plain": [
       "<Figure size 432x288 with 1 Axes>"
      ]
     },
     "metadata": {},
     "output_type": "display_data"
    }
   ],
   "source": [
    "plt.loglog(f_hist)\n",
    "plt.show()"
   ]
  },
  {
   "cell_type": "markdown",
   "metadata": {},
   "source": [
    "## Example 2. Noisy \"ellipsoid\" function"
   ]
  },
  {
   "cell_type": "code",
   "execution_count": 18,
   "metadata": {},
   "outputs": [
    {
     "name": "stdout",
     "output_type": "stream",
     "text": [
      "Noisy sphere function evaluated at x_test is 2046.006698362608\n"
     ]
    }
   ],
   "source": [
    "# Define sphere function with additive noise\n",
    "\n",
    "# Noise level\n",
    "k=1e-2\n",
    "\n",
    "N=10 # this is the dimension of the inputs!\n",
    "\n",
    "# Define a matrix for quadratic form\n",
    "A=np.eye(N)\n",
    "\n",
    "for i in range(0,N):\n",
    "    A[i,i]=2**i\n",
    "\n",
    "def ellip(x):\n",
    "    y=A@x\n",
    "    val=np.transpose(x)@y\n",
    "    return  (val + k*(2*np.random.rand(1) - 1))[0]\n",
    "\n",
    "x_test=np.sqrt(2)*np.ones(N)\n",
    "\n",
    "print('Noisy sphere function evaluated at x_test is', ellip(x_test))"
   ]
  },
  {
   "cell_type": "markdown",
   "metadata": {},
   "source": [
    "### Call ECNoise and estimate noise variance"
   ]
  },
  {
   "cell_type": "code",
   "execution_count": 19,
   "metadata": {},
   "outputs": [
    {
     "name": "stdout",
     "output_type": "stream",
     "text": [
      "1.0923540569000505e-05\n"
     ]
    }
   ],
   "source": [
    "ellip_noise = ECNOISE(np.ones((N,1)), ellip, 6, N)\n",
    "est_var=ellip_noise[1]\n",
    "\n",
    "print(est_var)"
   ]
  },
  {
   "cell_type": "markdown",
   "metadata": {},
   "source": [
    "### Learn L_1"
   ]
  },
  {
   "cell_type": "code",
   "execution_count": 20,
   "metadata": {},
   "outputs": [
    {
     "name": "stdout",
     "output_type": "stream",
     "text": [
      "547.4980745457668\n"
     ]
    }
   ],
   "source": [
    "ellip_lips = LIPS(ellip, 10, N, est_var)\n",
    "L_1_est = ellip_lips[0]\n",
    "\n",
    "print(L_1_est)"
   ]
  },
  {
   "cell_type": "markdown",
   "metadata": {},
   "source": [
    "### Perform STARS (full variables)"
   ]
  },
  {
   "cell_type": "code",
   "execution_count": 21,
   "metadata": {},
   "outputs": [
    {
     "name": "stdout",
     "output_type": "stream",
     "text": [
      "0.0009185061491891382 3.261590074441464e-05\n"
     ]
    }
   ],
   "source": [
    "# STARS optimal hyperparameters\n",
    "\n",
    "mu_star=((8*est_var*N)/(L_1_est**2*(N+6)**3))**0.25\n",
    "h=1/(4*L_1_est*(N+4))\n",
    "\n",
    "print(mu_star,h)"
   ]
  },
  {
   "cell_type": "code",
   "execution_count": 22,
   "metadata": {},
   "outputs": [
    {
     "name": "stdout",
     "output_type": "stream",
     "text": [
      "(10, 1) [141278.26620524]\n"
     ]
    }
   ],
   "source": [
    "x_init=100*(2*np.random.rand(N,1)-np.ones((N,1)))\n",
    "\n",
    "print(np.shape(x_init), ellip(x_init))"
   ]
  },
  {
   "cell_type": "code",
   "execution_count": 23,
   "metadata": {},
   "outputs": [
    {
     "name": "stdout",
     "output_type": "stream",
     "text": [
      "32.903486455818594 [1234.72381751]\n"
     ]
    }
   ],
   "source": [
    "# Run pure STARs\n",
    "\n",
    "x=x_init\n",
    "f=ellip(x)\n",
    "\n",
    "x_hist=np.array(x)\n",
    "f_hist=np.array(f)\n",
    "\n",
    "maxit=10000\n",
    "\n",
    "for i in range(1, maxit):\n",
    "    s=STARS(x,ellip,mu_star,h)\n",
    "    x=s[0]\n",
    "    f=s[1]\n",
    "    x_hist=np.hstack((x_hist,x))\n",
    "    f_hist=np.hstack((f_hist,f))\n",
    "    \n",
    "print(np.linalg.norm(x),f)"
   ]
  },
  {
   "cell_type": "code",
   "execution_count": 24,
   "metadata": {},
   "outputs": [
    {
     "data": {
      "image/png": "[encoded data removed]",
      "text/plain": [
       "<Figure size 432x288 with 1 Axes>"
      ]
     },
     "metadata": {},
     "output_type": "display_data"
    }
   ],
   "source": [
    "plt.loglog(f_hist)\n",
    "plt.show()"
   ]
  },
  {
   "cell_type": "code",
   "execution_count": 25,
   "metadata": {},
   "outputs": [
    {
     "name": "stdout",
     "output_type": "stream",
     "text": [
      "n should be an integer. Performing conversion.\n"
     ]
    },
    {
     "data": {
      "image/png": "[encoded data removed]",
      "text/plain": [
       "<Figure size 504x504 with 1 Axes>"
      ]
     },
     "metadata": {},
     "output_type": "display_data"
    },
    {
     "data": {
      "image/png": "[encoded data removed]",
      "text/plain": [
       "<Figure size 504x504 with 1 Axes>"
      ]
     },
     "metadata": {},
     "output_type": "display_data"
    },
    {
     "data": {
      "text/plain": [
       "[array([[ 7.54812327e-01,  8.72926282e-02,  9.16195476e-03,\n",
       "          2.46134997e-01,  2.95789206e-02,  1.36188211e-02,\n",
       "          7.30620392e-02,  4.56715634e-01,  3.42083451e-01,\n",
       "          1.73099005e-01],\n",
       "        [ 5.58641679e-01, -1.58582214e-02, -1.01752649e-01,\n",
       "         -2.57319793e-01, -3.17462143e-02,  1.28214670e-01,\n",
       "          8.65674269e-02, -2.79185932e-01, -3.85350061e-01,\n",
       "         -5.99767219e-01],\n",
       "        [-3.40793868e-01,  1.30909548e-01, -1.20536891e-01,\n",
       "          8.85298187e-02,  1.94860434e-02,  1.49493946e-01,\n",
       "          3.49917250e-01,  5.31230459e-01,  1.80240164e-01,\n",
       "         -6.20075007e-01],\n",
       "        [-2.58391601e-02,  1.37913613e-01, -4.13422739e-02,\n",
       "          3.82317207e-02,  4.30553518e-01,  6.22871674e-01,\n",
       "         -5.96575532e-01, -5.16173744e-02,  1.83833916e-01,\n",
       "         -1.06931022e-01],\n",
       "        [-1.38715528e-02, -6.28689038e-03,  2.06743247e-01,\n",
       "         -5.45597993e-01, -4.90000244e-01,  5.02551857e-01,\n",
       "          1.92069571e-02,  3.11824220e-01, -1.01500177e-01,\n",
       "          2.42454056e-01],\n",
       "        [-1.13099594e-02,  3.17590823e-01, -4.11794709e-01,\n",
       "          5.16083814e-02,  1.79696950e-01,  3.85548202e-01,\n",
       "          5.90662404e-01, -2.82313602e-01, -3.46902724e-02,\n",
       "          3.40653748e-01],\n",
       "        [ 3.17542856e-02, -4.74620973e-02,  9.28939307e-02,\n",
       "         -5.78649255e-01,  1.72391338e-01, -1.57509189e-01,\n",
       "          1.59847014e-01, -2.60301330e-01,  7.05417995e-01,\n",
       "         -8.84559506e-02],\n",
       "        [ 1.03148653e-03,  7.08612721e-02, -1.23997066e-01,\n",
       "         -4.49287774e-01,  6.06004502e-01, -2.60021493e-01,\n",
       "         -1.95705306e-02,  4.17349463e-01, -3.74088989e-01,\n",
       "          1.68475681e-01],\n",
       "        [ 6.29635029e-03, -6.78091590e-01,  4.36620981e-01,\n",
       "          1.48704791e-01,  3.55160535e-01,  2.79280967e-01,\n",
       "          3.40061309e-01, -6.29374376e-03, -8.13386517e-02,\n",
       "          3.10967800e-02],\n",
       "        [-5.69158318e-04, -6.22884747e-01, -7.39164422e-01,\n",
       "         -6.89689752e-02, -1.29887489e-01,  3.78681686e-02,\n",
       "         -1.34152234e-01,  9.84053363e-02,  1.11910772e-01,\n",
       "          4.88292400e-02]]), array([[6.99600908e+03],\n",
       "        [1.13329653e+02],\n",
       "        [4.34974220e+01],\n",
       "        [3.55194821e+01],\n",
       "        [2.49765111e+01],\n",
       "        [1.71656333e+01],\n",
       "        [1.62002201e+01],\n",
       "        [1.29077040e+01],\n",
       "        [8.84569159e+00],\n",
       "        [5.87576160e+00]])]"
      ]
     },
     "execution_count": 25,
     "metadata": {},
     "output_type": "execute_result"
    }
   ],
   "source": [
    "ACT(np.transpose(x_hist)[-500:],f_hist[-500:])"
   ]
  },
  {
   "cell_type": "code",
   "execution_count": null,
   "metadata": {},
   "outputs": [],
   "source": []
  }
 ],
 "metadata": {
  "kernelspec": {
   "display_name": "Python 3",
   "language": "python",
   "name": "python3"
  },
  "language_info": {
   "codemirror_mode": {
    "name": "ipython",
    "version": 3
   },
   "file_extension": ".py",
   "mimetype": "text/x-python",
   "name": "python",
   "nbconvert_exporter": "python",
   "pygments_lexer": "ipython3",
   "version": "3.6.5"
  }
 },
 "nbformat": 4,
 "nbformat_minor": 2
}
